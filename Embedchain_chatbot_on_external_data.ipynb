{
 "cells": [
  {
   "cell_type": "markdown",
   "metadata": {},
   "source": [
    "# Exploring EmbedChain, a powerful LangChain wrapper to build chat bots over any dataset. \n",
    "### Embedchain abstracts the entire process of loading a dataset, chunking it, creating embeddings and then storing in a vector database (manual https://docs.embedchain.ai for more details )"
   ]
  },
  {
   "cell_type": "markdown",
   "metadata": {},
   "source": [
    "## Default configuration\n",
    "* LLM: OpenAi (gpt-3.5-turbo)\n",
    "* Embedder: OpenAi (text-embedding-ada-002)\n",
    "* Database: ChromaDB"
   ]
  },
  {
   "cell_type": "code",
   "execution_count": 1,
   "metadata": {},
   "outputs": [],
   "source": [
    "from embedchain import App\n",
    "\n",
    "wizard_bot = App()"
   ]
  },
  {
   "cell_type": "code",
   "execution_count": 2,
   "metadata": {},
   "outputs": [
    {
     "data": {
      "text/plain": [
       "173"
      ]
     },
     "execution_count": 2,
     "metadata": {},
     "output_type": "execute_result"
    }
   ],
   "source": [
    "wizard_bot.db.count()"
   ]
  },
  {
   "cell_type": "code",
   "execution_count": 5,
   "metadata": {},
   "outputs": [
    {
     "data": {
      "text/plain": [
       "\"I'm sorry, but I don't have enough information to answer your query.\""
      ]
     },
     "execution_count": 5,
     "metadata": {},
     "output_type": "execute_result"
    }
   ],
   "source": [
    "wizard_bot.query(\"What is WizardLM?\")"
   ]
  },
  {
   "cell_type": "code",
   "execution_count": 6,
   "metadata": {},
   "outputs": [
    {
     "name": "stdout",
     "output_type": "stream",
     "text": [
      "Successfully saved https://arxiv.org/pdf/2304.12244.pdf (DataType.PDF_FILE). New chunks count: 133\n"
     ]
    },
    {
     "data": {
      "text/plain": [
       "'e37d9bcb93126c400b1b3035d7442856'"
      ]
     },
     "execution_count": 6,
     "metadata": {},
     "output_type": "execute_result"
    }
   ],
   "source": [
    "wizard_bot.add('https://arxiv.org/pdf/2304.12244.pdf')"
   ]
  },
  {
   "cell_type": "code",
   "execution_count": 7,
   "metadata": {},
   "outputs": [
    {
     "data": {
      "text/plain": [
       "133"
      ]
     },
     "execution_count": 7,
     "metadata": {},
     "output_type": "execute_result"
    }
   ],
   "source": [
    "wizard_bot.db.count()"
   ]
  },
  {
   "cell_type": "code",
   "execution_count": 8,
   "metadata": {},
   "outputs": [
    {
     "data": {
      "text/plain": [
       "'WizardLM is a language model that has been evaluated and compared to other models such as Alpaca and Vicuna. It has been found to achieve better response quality than these models on the automatic evaluation of GPT-4. Additionally, labelers prefer the outputs of WizardLM over outputs from ChatGPT under complex test instructions. While WizardLM performs worse than ChatGPT on the OnEvol-Instruct test set, it outperforms ChatGPT in the high-difficulty section of the Evol-Instruct test set. This suggests that WizardLM has the ability to handle complex instructions effectively.'"
      ]
     },
     "execution_count": 8,
     "metadata": {},
     "output_type": "execute_result"
    }
   ],
   "source": [
    "wizard_bot.query(\"What is WizardLM?\")"
   ]
  },
  {
   "cell_type": "code",
   "execution_count": 9,
   "metadata": {},
   "outputs": [
    {
     "data": {
      "text/plain": [
       "'The given context does not provide information on how to use WizardLM.'"
      ]
     },
     "execution_count": 9,
     "metadata": {},
     "output_type": "execute_result"
    }
   ],
   "source": [
    "wizard_bot.query(\"How to use WizardLM?\")"
   ]
  },
  {
   "cell_type": "code",
   "execution_count": 11,
   "metadata": {},
   "outputs": [
    {
     "name": "stdout",
     "output_type": "stream",
     "text": [
      "Doc content has not changed. Skipping creating chunks and embeddings\n"
     ]
    },
    {
     "data": {
      "text/plain": [
       "'d785b93aa2aa5ed5f491cfb44ff625c6'"
      ]
     },
     "execution_count": 11,
     "metadata": {},
     "output_type": "execute_result"
    }
   ],
   "source": [
    "wizard_bot.add('https://www.youtube.com/watch?v=I6sER-qivYk')"
   ]
  },
  {
   "cell_type": "code",
   "execution_count": 12,
   "metadata": {},
   "outputs": [
    {
     "data": {
      "text/plain": [
       "140"
      ]
     },
     "execution_count": 12,
     "metadata": {},
     "output_type": "execute_result"
    }
   ],
   "source": [
    "wizard_bot.db.count()"
   ]
  },
  {
   "cell_type": "code",
   "execution_count": 13,
   "metadata": {},
   "outputs": [
    {
     "data": {
      "text/plain": [
       "\"WizardLM is a new project that aims to enhance large language models, such as OpenAI's chat GPT, by improving their ability to follow complex instructions. It uses a method called evolve instruct to generate instruction data and fine-tune the language model. The goal of WizardLM is to overcome the challenge of creating large amounts of instruction data with varying levels of complexity, which can be time-consuming and labor-intensive for humans.\""
      ]
     },
     "execution_count": 13,
     "metadata": {},
     "output_type": "execute_result"
    }
   ],
   "source": [
    "wizard_bot.query(\"What is WizardLM?\")"
   ]
  },
  {
   "cell_type": "code",
   "execution_count": 14,
   "metadata": {},
   "outputs": [
    {
     "data": {
      "text/plain": [
       "'The video does not provide specific instructions on how to use WizardLM.'"
      ]
     },
     "execution_count": 14,
     "metadata": {},
     "output_type": "execute_result"
    }
   ],
   "source": [
    "wizard_bot.query(\"How to use WizardLM?\")"
   ]
  },
  {
   "cell_type": "code",
   "execution_count": 15,
   "metadata": {},
   "outputs": [
    {
     "data": {
      "text/plain": [
       "\"Specific advantages of WizardLM mentioned in its YouTube video are:\\n\\n1. Enhancing large language models: WizardLM aims to enhance large language models by improving their ability to follow complex instructions.\\n\\n2. Generating instruction data: WizardLM uses LMs themselves to generate instruction data, which helps in fine-tuning the LM and improving its performance.\\n\\n3. Overcoming time-consuming and labor-intensive process: Creating large amounts of instruction data with varying levels of complexity can be time-consuming and labor-intensive for humans. WizardLM's approach of using LMs to generate instruction data helps overcome this challenge.\\n\\n4. Contextual generation: WizardLM allows for contextual generation, which means it can generate language that is relevant and appropriate to the given context.\\n\\nThese are some of the specific advantages mentioned in the YouTube video about WizardLM.\""
      ]
     },
     "execution_count": 15,
     "metadata": {},
     "output_type": "execute_result"
    }
   ],
   "source": [
    "wizard_bot.query(\"What are specific advantages of WizardLM mentioned it its YouTube video?\")"
   ]
  },
  {
   "cell_type": "code",
   "execution_count": 17,
   "metadata": {},
   "outputs": [
    {
     "data": {
      "text/plain": [
       "'The given context does not provide any information about the number of parameters used for training or the available versions for download.'"
      ]
     },
     "execution_count": 17,
     "metadata": {},
     "output_type": "execute_result"
    }
   ],
   "source": [
    "wizard_bot.query('How many parameters have been used for training? What versions are available for download?')"
   ]
  },
  {
   "cell_type": "code",
   "execution_count": 18,
   "metadata": {},
   "outputs": [
    {
     "data": {
      "text/plain": [
       "'The video transcript provides information about a research project focused on fine-tuning large language models. The project is not currently available for commercial use, but the team is continuously working towards achieving that goal in the future. The speaker encourages viewers to keep an eye on this revolutionary project. The video aims to inform and educate viewers about the potential impact of fine-tuning different large language models.\\n\\nIn the 200-word summary, the speaker emphasizes that the information shared is for research purposes only and cannot be used commercially at the moment. However, the project is expected to bring significant advancements in fine-tuning large language models. The speaker encourages viewers to stay updated on the progress of the project, as it has the potential to revolutionize the field. The video concludes with a reminder to subscribe and turn on notifications for future content. Overall, the video provides an informative overview of the research project and its potential implications for large language models.'"
      ]
     },
     "execution_count": 18,
     "metadata": {},
     "output_type": "execute_result"
    }
   ],
   "source": [
    "wizard_bot.chat(\"Please prepare 200 words summary of video transcript\")"
   ]
  },
  {
   "cell_type": "code",
   "execution_count": 20,
   "metadata": {},
   "outputs": [
    {
     "name": "stdout",
     "output_type": "stream",
     "text": [
      "Successfully saved https://www.youtube.com/watch?v=SaJ8wyKMBds (DataType.YOUTUBE_VIDEO). New chunks count: 8\n"
     ]
    },
    {
     "data": {
      "text/plain": [
       "'ac856417ec1defdbb059d4f3b73461d8'"
      ]
     },
     "execution_count": 20,
     "metadata": {},
     "output_type": "execute_result"
    }
   ],
   "source": [
    "wizard_bot.add('https://www.youtube.com/watch?v=SaJ8wyKMBds')"
   ]
  },
  {
   "cell_type": "code",
   "execution_count": 21,
   "metadata": {},
   "outputs": [
    {
     "data": {
      "text/plain": [
       "148"
      ]
     },
     "execution_count": 21,
     "metadata": {},
     "output_type": "execute_result"
    }
   ],
   "source": [
    "wizard_bot.db.count()"
   ]
  },
  {
   "cell_type": "code",
   "execution_count": 24,
   "metadata": {},
   "outputs": [
    {
     "data": {
      "text/plain": [
       "\"The video transcript provides an in-depth look at Wizard LM, a new enemy model in the local NM Arena. Wizard LM is touted as one of the best, if not the best, local NNA model currently available. The model is a small 7 billion parameters model that was trained using a technique called evil instruct. This technique utilizes LM's to automatically generate complex instructor options, improving the model's performance. According to the video, Wizard LM has the potential to outperform Chan GPT in certain scenarios. The speaker highlights that Wizard LM is a powerful model capable of following complex instructions, as reported by many online users and the speaker's own off-camera testing.\\n\\nThe video aims to compare the results of Wizard LM with Vicuna, another 7 billion parameters model, to determine which one is currently the best. The comparison is expected to yield interesting results, given the fair nature of the comparison. The speaker encourages viewers to try out the Wizard LM model themselves. However, it is important to note that the project is currently for research purposes only and not available for commercial use. The speaker emphasizes that the information shared in the video is solely for research purposes and cannot be used commercially at the moment. The video concludes with a reminder to subscribe and turn on notifications for future content, indicating that viewers should stay updated on the progress of the project. Overall, the video provides an informative overview of Wizard LM and its potential capabilities in the field of language models.\""
      ]
     },
     "execution_count": 24,
     "metadata": {},
     "output_type": "execute_result"
    }
   ],
   "source": [
    "wizard_bot.chat(\"Please prepare 200 words summary about WizardLM. Please do not repeat yourself\")"
   ]
  },
  {
   "cell_type": "code",
   "execution_count": 29,
   "metadata": {},
   "outputs": [
    {
     "data": {
      "text/plain": [
       "'In the video transcript, it is mentioned that Wizard LM is a small 7 billion parameters model. The speaker compares Wizard LM with another 7 billion parameters model called Vicuna to determine which one is currently the best. However, it is not mentioned if there are any other variants of 7 billion parameters models available.'"
      ]
     },
     "execution_count": 29,
     "metadata": {},
     "output_type": "execute_result"
    }
   ],
   "source": [
    "wizard_bot.query('What was mentioned about 7 billion parameters models variant? Any other varians available?')"
   ]
  },
  {
   "cell_type": "code",
   "execution_count": 32,
   "metadata": {},
   "outputs": [
    {
     "data": {
      "text/plain": [
       "'The provided context does not mention whether the WizardLM project can be used on CPU only or if GPU use is essential.'"
      ]
     },
     "execution_count": 32,
     "metadata": {},
     "output_type": "execute_result"
    }
   ],
   "source": [
    "wizard_bot.chat(\"May I use it on CPU only? Whether is GPU use essential?\")"
   ]
  },
  {
   "cell_type": "code",
   "execution_count": 33,
   "metadata": {},
   "outputs": [
    {
     "name": "stdout",
     "output_type": "stream",
     "text": [
      "Successfully saved https://github.com/nlpxucan/WizardLM (DataType.WEB_PAGE). New chunks count: 25\n"
     ]
    },
    {
     "data": {
      "text/plain": [
       "'a96e81c62557447f876c7d86bb1b4e4b'"
      ]
     },
     "execution_count": 33,
     "metadata": {},
     "output_type": "execute_result"
    }
   ],
   "source": [
    "wizard_bot.add('https://github.com/nlpxucan/WizardLM')"
   ]
  },
  {
   "cell_type": "code",
   "execution_count": 34,
   "metadata": {},
   "outputs": [
    {
     "data": {
      "text/plain": [
       "173"
      ]
     },
     "execution_count": 34,
     "metadata": {},
     "output_type": "execute_result"
    }
   ],
   "source": [
    "wizard_bot.db.count()"
   ]
  },
  {
   "cell_type": "code",
   "execution_count": 35,
   "metadata": {},
   "outputs": [
    {
     "data": {
      "text/plain": [
       "'The provided context does not mention whether the WizardLM project can be used on CPU only or if GPU use is essential.'"
      ]
     },
     "execution_count": 35,
     "metadata": {},
     "output_type": "execute_result"
    }
   ],
   "source": [
    "wizard_bot.chat(\"May I use it on CPU only? Whether is GPU use essential?\")"
   ]
  },
  {
   "cell_type": "code",
   "execution_count": 37,
   "metadata": {},
   "outputs": [
    {
     "data": {
      "text/plain": [
       "'The provided context does not mention any specific details about the 7B model variant. It only mentions the release of the WizardLM-70B-V1.0 model. There is no information provided about any other variants of the model on the web page.'"
      ]
     },
     "execution_count": 37,
     "metadata": {},
     "output_type": "execute_result"
    }
   ],
   "source": [
    "wizard_bot.query('What was mentioned about 7B  model variant? Any other varians available on web-page?')"
   ]
  },
  {
   "cell_type": "code",
   "execution_count": 43,
   "metadata": {},
   "outputs": [
    {
     "data": {
      "text/plain": [
       "'The provided context does not mention a specific release date for the WizardLM-70B-V1.0 model. Additionally, there is no comment mentioned next to the model name in the given context.'"
      ]
     },
     "execution_count": 43,
     "metadata": {},
     "output_type": "execute_result"
    }
   ],
   "source": [
    "wizard_bot.chat(\"When was WizardLM-70B-V1.0  was released? What says the comment next to the model name?\")"
   ]
  },
  {
   "cell_type": "code",
   "execution_count": 6,
   "metadata": {},
   "outputs": [
    {
     "name": "stdout",
     "output_type": "stream",
     "text": [
      "Successfully saved /home/drphyl/Work_python/GPT-local/working-with-LLMs/Input/brother_printer_reset-counter.pdf (DataType.PDF_FILE). New chunks count: 3\n"
     ]
    },
    {
     "data": {
      "text/plain": [
       "'0960f85c1fac7c1138db10c400c9cbe9'"
      ]
     },
     "execution_count": 6,
     "metadata": {},
     "output_type": "execute_result"
    }
   ],
   "source": [
    "wizard_bot.add(\"/home/drphyl/Work_python/GPT-local/working-with-LLMs/Input/brother_printer_reset-counter.pdf\", \"pdf_file\")"
   ]
  },
  {
   "cell_type": "code",
   "execution_count": 7,
   "metadata": {},
   "outputs": [
    {
     "data": {
      "text/plain": [
       "'To reset the counter on a Brother printer, you need to put the printer in maintenance mode. The specific method for entering maintenance mode may vary depending on the model of your printer. However, for most modern Brother printers, you can try the following steps:\\n\\n1. Ensure that the printer is turned on and ready to print.\\n2. Remove the power cable from the printer or turn off the printer if it has a fixed power source.\\n3. Press and hold the \"Menu\" or \"Set\" button on the printer.\\n4. While holding the \"Menu\" or \"Set\" button, reconnect the power cable or turn on the printer.\\n5. Continue holding the \"Menu\" or \"Set\" button until the maintenance mode message appears on the printer\\'s display.\\n6. Once in maintenance mode, use the numerical pad or arrow keys to navigate through the menu options.\\n7. Look for an option related to resetting the purge counter. The specific wording may vary, but it should be something like \"Reset Purge,\" \"Purge Count Reset,\" or \"Clear Counter.\"\\n8. Select the appropriate option and follow any on-screen prompts to confirm the reset.\\n9. After the reset is complete, turn off the printer and then turn it back on to exit maintenance mode.\\n\\nPlease note that the terms used to describe buttons may vary from one printer model to another. For example, \"Start\" may be labeled as \"Menu\" or \"Set,\" and \"Stop\" may be referred to as \"Exit\" or a red button. If the above steps do not work for your specific printer model, it is recommended to consult the printer\\'s user manual or contact Brother customer support for further assistance.'"
      ]
     },
     "execution_count": 7,
     "metadata": {},
     "output_type": "execute_result"
    }
   ],
   "source": [
    "wizard_bot.chat(\"How to reset a Brother printer counter?\")"
   ]
  },
  {
   "cell_type": "code",
   "execution_count": 11,
   "metadata": {},
   "outputs": [
    {
     "data": {
      "text/plain": [
       "'To reset a Brother printer counter, enter maintenance mode and navigate through the menu options to find the code for resetting the counter. The specific code may vary depending on the printer model.'"
      ]
     },
     "execution_count": 11,
     "metadata": {},
     "output_type": "execute_result"
    }
   ],
   "source": [
    "wizard_bot.chat('Explain it shorter, in 50 words. What code to enter?')"
   ]
  },
  {
   "cell_type": "code",
   "execution_count": 12,
   "metadata": {},
   "outputs": [
    {
     "data": {
      "text/plain": [
       "'Yes, that is correct. In step 2 of the process, you need to enter the code \"2783\" using the numerical keypad to zero the numbers after \"PURGE\".'"
      ]
     },
     "execution_count": 12,
     "metadata": {},
     "output_type": "execute_result"
    }
   ],
   "source": [
    "wizard_bot.chat('I believe you must enter 4 digits to put PURGE counter to zero.')"
   ]
  },
  {
   "cell_type": "code",
   "execution_count": 13,
   "metadata": {},
   "outputs": [
    {
     "data": {
      "text/plain": [
       "'To enter maintenance mode on a Brother printer, hold down the MENU/SET/START button and quickly press * 2 8 6 4.'"
      ]
     },
     "execution_count": 13,
     "metadata": {},
     "output_type": "execute_result"
    }
   ],
   "source": [
    "wizard_bot.chat('How to enter mantenance mode?')"
   ]
  },
  {
   "cell_type": "code",
   "execution_count": null,
   "metadata": {},
   "outputs": [],
   "source": []
  }
 ],
 "metadata": {
  "kernelspec": {
   "display_name": "local_llms-G7wTTztB-py3.10",
   "language": "python",
   "name": "python3"
  },
  "language_info": {
   "codemirror_mode": {
    "name": "ipython",
    "version": 3
   },
   "file_extension": ".py",
   "mimetype": "text/x-python",
   "name": "python",
   "nbconvert_exporter": "python",
   "pygments_lexer": "ipython3",
   "version": "3.10.12"
  },
  "orig_nbformat": 4
 },
 "nbformat": 4,
 "nbformat_minor": 2
}
