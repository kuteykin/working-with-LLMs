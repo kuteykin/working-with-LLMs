{
 "cells": [
  {
   "attachments": {},
   "cell_type": "markdown",
   "metadata": {},
   "source": [
    "# Private LLMs on Your Local Machine\n",
    "(adapting the manual from https://betterprogramming.pub/private-llms-on-local-and-in-the-cloud-with-langchain-gpt4all-and-cerebrium-6dade79f45f6)"
   ]
  },
  {
   "cell_type": "code",
   "execution_count": 1,
   "metadata": {},
   "outputs": [],
   "source": [
    "from langchain import PromptTemplate, LLMChain\n",
    "from langchain.llms import GPT4All\n",
    "from langchain.callbacks.streaming_stdout import StreamingStdOutCallbackHandler"
   ]
  },
  {
   "cell_type": "code",
   "execution_count": 2,
   "metadata": {},
   "outputs": [],
   "source": [
    "# Define text colors\n",
    "green = \"\\033[0;32m\"\n",
    "white = \"\\033[0;39m\"\n",
    "cyan  = \"\\033[36m\""
   ]
  },
  {
   "cell_type": "code",
   "execution_count": null,
   "metadata": {},
   "outputs": [],
   "source": [
    "template = \"\"\"\n",
    "You are a friendly chatbot assistant that responds in a conversational\n",
    "manner to users questions. Keep the answers short, unless specifically\n",
    "asked by the user to elaborate on something.\n",
    "\n",
    "Question: {question}\n",
    "\n",
    "Answer:\"\"\""
   ]
  },
  {
   "cell_type": "code",
   "execution_count": 4,
   "metadata": {},
   "outputs": [],
   "source": [
    "prompt = PromptTemplate(template=template, input_variables=[\"question\"])"
   ]
  },
  {
   "attachments": {},
   "cell_type": "markdown",
   "metadata": {},
   "source": [
    "## Local LLM *(e.g., GTP4all)*"
   ]
  },
  {
   "cell_type": "code",
   "execution_count": 5,
   "metadata": {},
   "outputs": [
    {
     "name": "stdout",
     "output_type": "stream",
     "text": [
      "Found model file at  ./Models/ggml-gpt4all-j-v1.3-groovy.bin\n",
      "gptj_model_load: loading model from './Models/ggml-gpt4all-j-v1.3-groovy.bin' - please wait ...\n",
      "gptj_model_load: n_vocab = 50400\n",
      "gptj_model_load: n_ctx   = 2048\n",
      "gptj_model_load: n_embd  = 4096\n",
      "gptj_model_load: n_head  = 16\n",
      "gptj_model_load: n_layer = 28\n",
      "gptj_model_load: n_rot   = 64\n",
      "gptj_model_load: f16     = 2\n",
      "gptj_model_load: ggml ctx size = 5401.45 MB\n",
      "gptj_model_load: kv self size  =  896.00 MB\n",
      "gptj_model_load: ................................... done\n",
      "gptj_model_load: model size =  3609.38 MB / num tensors = 285\n"
     ]
    }
   ],
   "source": [
    "llm_local = GPT4All(\n",
    "    model='../Models/ggml-gpt4all-j-v1.3-groovy.bin',\n",
    "    callbacks=[StreamingStdOutCallbackHandler()]\n",
    ")"
   ]
  },
  {
   "cell_type": "code",
   "execution_count": 8,
   "metadata": {},
   "outputs": [
    {
     "name": "stdout",
     "output_type": "stream",
     "text": [
      "\n",
      "The sentence is not clear. It's difficult to understand what the speaker means by saying that they live in Denmark or if it has any relation with their current situation. Can you please provide more context or clarify your question?"
     ]
    },
    {
     "data": {
      "text/plain": [
       "\"\\nThe sentence is not clear. It's difficult to understand what the speaker means by saying that they live in Denmark or if it has any relation with their current situation. Can you please provide more context or clarify your question?\""
      ]
     },
     "execution_count": 8,
     "metadata": {},
     "output_type": "execute_result"
    }
   ],
   "source": [
    "question_2 = input(\"Question? \")\n",
    "llm_local(question_2)"
   ]
  },
  {
   "attachments": {},
   "cell_type": "markdown",
   "metadata": {},
   "source": [
    "## Remote LLM via API call *(e.g., OpenAI )*"
   ]
  },
  {
   "cell_type": "code",
   "execution_count": 7,
   "metadata": {},
   "outputs": [
    {
     "name": "stderr",
     "output_type": "stream",
     "text": [
      "/home/drphyl/.cache/pypoetry/virtualenvs/local_llms-CM_XZ3EH-py3.10/lib/python3.10/site-packages/environ/environ.py:639: UserWarning: /tmp/ipykernel_187161/.env doesn't exist - if you're not configuring your environment separately, create one.\n",
      "  warnings.warn(\n"
     ]
    }
   ],
   "source": [
    "from langchain.chat_models import ChatOpenAI\n",
    "\n",
    "# Accessing the OPENAI KEY\n",
    "import environ\n",
    "env = environ.Env()\n",
    "environ.Env.read_env()\n",
    "API_KEY = env('OPENAI_API_KEY')\n",
    "\n",
    "# Simple LLM call Using LangChain\n",
    "llm = OpenAI(model_name=\"gpt-3.5-turbo\", openai_api_key=API_KEY)\n"
   ]
  },
  {
   "cell_type": "code",
   "execution_count": 29,
   "metadata": {},
   "outputs": [
    {
     "name": "stdout",
     "output_type": "stream",
     "text": [
      "\u001b[0;32mWhich language is used to create chatgpt?\n",
      "\u001b[36mChatGPT: \u001b[0;39mChatGPT is primarily developed using the Python programming language. The underlying model architecture is based on OpenAI's GPT (Generative Pre-trained Transformer) model, which is implemented using Python and frameworks like TensorFlow or PyTorch.\n"
     ]
    }
   ],
   "source": [
    "query = \"Which language is used to create chatgpt?\"\n",
    "response = llm(query)\n",
    "print(f\"{green}{query}\")\n",
    "print(f\"{cyan}ChatGPT: {white}{response}\")"
   ]
  },
  {
   "attachments": {},
   "cell_type": "markdown",
   "metadata": {},
   "source": [
    "## Using prompt template"
   ]
  },
  {
   "cell_type": "code",
   "execution_count": 9,
   "metadata": {},
   "outputs": [],
   "source": [
    "# Creating a prompt template and running the LLM chain\n",
    "\n",
    "template = \"What are the top {n} resources to learn {language} programming?\"\n",
    "prompt = PromptTemplate(template=template,input_variables=['n','language'])\n",
    "\n",
    "input = {'n':3,'language':'Python'}"
   ]
  },
  {
   "cell_type": "code",
   "execution_count": 12,
   "metadata": {},
   "outputs": [
    {
     "name": "stdout",
     "output_type": "stream",
     "text": [
      "1. Python.org: The official Python website offers comprehensive documentation, tutorials, and guides for learning Python from scratch. It covers everything from syntax and basics to advanced concepts, making it an excellent resource for beginner to intermediate learners.\n",
      "\n",
      "2. Codecademy: Codecademy's interactive Python course provides hands-on coding exercises and projects to help learners grasp the language quickly. Its interactive platform makes it easy to practice writing Python code and receive instant feedback, while also offering additional resources and a supportive community.\n",
      "\n",
      "3. Udemy: Udemy features a wide range of Python courses, including beginner-friendly options and specialized courses for different applications like data science, web development, or machine learning. Many of these courses are created by industry professionals and provide in-depth knowledge and practical coding experience.\n"
     ]
    }
   ],
   "source": [
    "from langchain import PromptTemplate, LLMChain\n",
    "chain = LLMChain(llm=llm,prompt=prompt)\n",
    "print(chain.run(input))"
   ]
  },
  {
   "attachments": {},
   "cell_type": "markdown",
   "metadata": {},
   "source": [
    "## Connecting to SQL Database"
   ]
  },
  {
   "cell_type": "code",
   "execution_count": 46,
   "metadata": {},
   "outputs": [],
   "source": [
    "db_file = 'Input/books.db'\n",
    "db_uri = 'sqlite:///' + db_file"
   ]
  },
  {
   "cell_type": "code",
   "execution_count": 48,
   "metadata": {},
   "outputs": [],
   "source": [
    "# setup LLM\n",
    "\n",
    "from langchain.chat_models import ChatOpenAI\n",
    "import os\n",
    "\n",
    "\n",
    "# Simple LLM call Using LangChain\n",
    "llm = OpenAI(model_name=\"gpt-3.5-turbo\", openai_api_key=os.getenv('OPENAI_API_KEY'), temperature=0)"
   ]
  },
  {
   "cell_type": "code",
   "execution_count": 49,
   "metadata": {},
   "outputs": [
    {
     "name": "stderr",
     "output_type": "stream",
     "text": [
      "/home/drphyl/.cache/pypoetry/virtualenvs/local_llms-CM_XZ3EH-py3.10/lib/python3.10/site-packages/langchain/chains/sql_database/base.py:63: UserWarning: Directly instantiating an SQLDatabaseChain with an llm is deprecated. Please instantiate with llm_chain argument or using the from_llm class method.\n",
      "  warnings.warn(\n"
     ]
    }
   ],
   "source": [
    "from langchain import SQLDatabase, SQLDatabaseChain\n",
    "db = SQLDatabase.from_uri(db_uri)\n",
    "\n",
    "\n",
    "# Setup the database chain\n",
    "db_chain = SQLDatabaseChain(llm=llm, database=db, verbose=True)"
   ]
  },
  {
   "cell_type": "code",
   "execution_count": 50,
   "metadata": {},
   "outputs": [],
   "source": [
    "# Create Query template\n",
    "QUERY = \"\"\"\n",
    "Given an input question, first create a syntactically correct SQLite query to run, then look at the results of the query and return the answer.\n",
    "Use the following format:\n",
    "\n",
    "Question: Question here\n",
    "SQLQuery: SQL Query to run\n",
    "SQLResult: Result of the SQLQuery\n",
    "Answer: Final answer here\n",
    "\n",
    "{question}\n",
    "\"\"\""
   ]
  },
  {
   "cell_type": "code",
   "execution_count": 51,
   "metadata": {},
   "outputs": [],
   "source": [
    "# Function to generate prompt\n",
    "def get_prompt():\n",
    "    print(\"Type 'exit' to quit\")\n",
    "\n",
    "    while True:\n",
    "        prompt = input(\"Enter a prompt: \")\n",
    "\n",
    "        if prompt.lower() == 'exit':\n",
    "            print('Exiting...')\n",
    "            break\n",
    "        else:\n",
    "            try:\n",
    "                question = QUERY.format(question=prompt)\n",
    "                print(db_chain.run(question))\n",
    "            except Exception as e:\n",
    "                print(e)\n"
   ]
  },
  {
   "cell_type": "code",
   "execution_count": 52,
   "metadata": {},
   "outputs": [
    {
     "name": "stdout",
     "output_type": "stream",
     "text": [
      "Type 'exit' to quit\n",
      "\n",
      "\n",
      "\u001b[1m> Entering new  chain...\u001b[0m\n",
      "\n",
      "Given an input question, first create a syntactically correct SQLite query to run, then look at the results of the query and return the answer.\n",
      "Use the following format:\n",
      "\n",
      "Question: Question here\n",
      "SQLQuery: SQL Query to run\n",
      "SQLResult: Result of the SQLQuery\n",
      "Answer: Final answer here\n",
      "\n",
      "Please ist all tasks from tasks table\n",
      "\n",
      "SQLQuery:\u001b[32;1m\u001b[1;3mSELECT task FROM tasks\u001b[0m\n",
      "SQLResult: \u001b[33;1m\u001b[1;3m[('Complete the web page design',), ('Create login and signup pages',), ('Complete the web page design',), ('Complete the web page design',), ('Create login and signup pages',), ('Create login and signup pages',), ('Product management',), ('Cart and wishlist creation',), ('Payment gateway integration',), ('Order management',)]\u001b[0m\n",
      "Answer:\u001b[32;1m\u001b[1;3mFinal answer here\u001b[0m\n",
      "\u001b[1m> Finished chain.\u001b[0m\n",
      "Final answer here\n",
      "\n",
      "\n",
      "\u001b[1m> Entering new  chain...\u001b[0m\n",
      "\n",
      "Given an input question, first create a syntactically correct SQLite query to run, then look at the results of the query and return the answer.\n",
      "Use the following format:\n",
      "\n",
      "Question: Question here\n",
      "SQLQuery: SQL Query to run\n",
      "SQLResult: Result of the SQLQuery\n",
      "Answer: Final answer here\n",
      "\n",
      "How many records has \"tasks\" table?\n",
      "\n",
      "SQLQuery:\u001b[32;1m\u001b[1;3mSELECT COUNT(*) FROM tasks\u001b[0m\n",
      "SQLResult: \u001b[33;1m\u001b[1;3m[(10,)]\u001b[0m\n",
      "Answer:\u001b[32;1m\u001b[1;3mFinal answer here: The \"tasks\" table has 10 records.\u001b[0m\n",
      "\u001b[1m> Finished chain.\u001b[0m\n",
      "Final answer here: The \"tasks\" table has 10 records.\n",
      "\n",
      "\n",
      "\u001b[1m> Entering new  chain...\u001b[0m\n",
      "\n",
      "Given an input question, first create a syntactically correct SQLite query to run, then look at the results of the query and return the answer.\n",
      "Use the following format:\n",
      "\n",
      "Question: Question here\n",
      "SQLQuery: SQL Query to run\n",
      "SQLResult: Result of the SQLQuery\n",
      "Answer: Final answer here\n",
      "\n",
      "Please remove duplicates from \"tasks\" table\n",
      "\n",
      "SQLQuery:\u001b[32;1m\u001b[1;3mSELECT DISTINCT * FROM tasks\u001b[0m\n",
      "SQLResult: \u001b[33;1m\u001b[1;3m[(None, 'Complete the web page design', 1, '2023-05-01', '2023-05-03', 1), (None, 'Create login and signup pages', 1, '2023-05-03', '2023-05-05', 2), (None, 'Product management', 0, '2023-05-05', '2023-05-05', 3), (None, 'Cart and wishlist creation', 0, '2023-05-08', '2023-05-05', 4), (None, 'Payment gateway integration', 0, '2023-05-10', '2023-05-05', 5), (None, 'Order management', 0, '2023-05-10', '2023-05-05', 6)]\u001b[0m\n",
      "Answer:\u001b[32;1m\u001b[1;3mFinal answer here\u001b[0m\n",
      "\u001b[1m> Finished chain.\u001b[0m\n",
      "Final answer here\n",
      "\n",
      "\n",
      "\u001b[1m> Entering new  chain...\u001b[0m\n",
      "\n",
      "Given an input question, first create a syntactically correct SQLite query to run, then look at the results of the query and return the answer.\n",
      "Use the following format:\n",
      "\n",
      "Question: Question here\n",
      "SQLQuery: SQL Query to run\n",
      "SQLResult: Result of the SQLQuery\n",
      "Answer: Final answer here\n",
      "\n",
      "Please  modify database - remove all duplicate records and save new database version\n",
      "\n",
      "SQLQuery:\u001b[32;1m\u001b[1;3mDELETE FROM author_ISBN WHERE rowid NOT IN (SELECT MIN(rowid) FROM author_ISBN GROUP BY id, isbn);\n",
      "DELETE FROM authors WHERE rowid NOT IN (SELECT MIN(rowid) FROM authors GROUP BY id);\n",
      "DELETE FROM tasks WHERE rowid NOT IN (SELECT MIN(rowid) FROM tasks GROUP BY id);\n",
      "DELETE FROM titles WHERE rowid NOT IN (SELECT MIN(rowid) FROM titles GROUP BY isbn);\u001b[0mYou can only execute one statement at a time.\n"
     ]
    },
    {
     "ename": "KeyboardInterrupt",
     "evalue": "Interrupted by user",
     "output_type": "error",
     "traceback": [
      "\u001b[0;31m---------------------------------------------------------------------------\u001b[0m",
      "\u001b[0;31mKeyboardInterrupt\u001b[0m                         Traceback (most recent call last)",
      "Cell \u001b[0;32mIn[52], line 1\u001b[0m\n\u001b[0;32m----> 1\u001b[0m get_prompt()\n",
      "Cell \u001b[0;32mIn[51], line 6\u001b[0m, in \u001b[0;36mget_prompt\u001b[0;34m()\u001b[0m\n\u001b[1;32m      3\u001b[0m \u001b[39mprint\u001b[39m(\u001b[39m\"\u001b[39m\u001b[39mType \u001b[39m\u001b[39m'\u001b[39m\u001b[39mexit\u001b[39m\u001b[39m'\u001b[39m\u001b[39m to quit\u001b[39m\u001b[39m\"\u001b[39m)\n\u001b[1;32m      5\u001b[0m \u001b[39mwhile\u001b[39;00m \u001b[39mTrue\u001b[39;00m:\n\u001b[0;32m----> 6\u001b[0m     prompt \u001b[39m=\u001b[39m \u001b[39minput\u001b[39;49m(\u001b[39m\"\u001b[39;49m\u001b[39mEnter a prompt: \u001b[39;49m\u001b[39m\"\u001b[39;49m)\n\u001b[1;32m      8\u001b[0m     \u001b[39mif\u001b[39;00m prompt\u001b[39m.\u001b[39mlower() \u001b[39m==\u001b[39m \u001b[39m'\u001b[39m\u001b[39mexit\u001b[39m\u001b[39m'\u001b[39m:\n\u001b[1;32m      9\u001b[0m         \u001b[39mprint\u001b[39m(\u001b[39m'\u001b[39m\u001b[39mExiting...\u001b[39m\u001b[39m'\u001b[39m)\n",
      "File \u001b[0;32m~/.cache/pypoetry/virtualenvs/local_llms-CM_XZ3EH-py3.10/lib/python3.10/site-packages/ipykernel/kernelbase.py:1202\u001b[0m, in \u001b[0;36mKernel.raw_input\u001b[0;34m(self, prompt)\u001b[0m\n\u001b[1;32m   1200\u001b[0m     msg \u001b[39m=\u001b[39m \u001b[39m\"\u001b[39m\u001b[39mraw_input was called, but this frontend does not support input requests.\u001b[39m\u001b[39m\"\u001b[39m\n\u001b[1;32m   1201\u001b[0m     \u001b[39mraise\u001b[39;00m StdinNotImplementedError(msg)\n\u001b[0;32m-> 1202\u001b[0m \u001b[39mreturn\u001b[39;00m \u001b[39mself\u001b[39;49m\u001b[39m.\u001b[39;49m_input_request(\n\u001b[1;32m   1203\u001b[0m     \u001b[39mstr\u001b[39;49m(prompt),\n\u001b[1;32m   1204\u001b[0m     \u001b[39mself\u001b[39;49m\u001b[39m.\u001b[39;49m_parent_ident[\u001b[39m\"\u001b[39;49m\u001b[39mshell\u001b[39;49m\u001b[39m\"\u001b[39;49m],\n\u001b[1;32m   1205\u001b[0m     \u001b[39mself\u001b[39;49m\u001b[39m.\u001b[39;49mget_parent(\u001b[39m\"\u001b[39;49m\u001b[39mshell\u001b[39;49m\u001b[39m\"\u001b[39;49m),\n\u001b[1;32m   1206\u001b[0m     password\u001b[39m=\u001b[39;49m\u001b[39mFalse\u001b[39;49;00m,\n\u001b[1;32m   1207\u001b[0m )\n",
      "File \u001b[0;32m~/.cache/pypoetry/virtualenvs/local_llms-CM_XZ3EH-py3.10/lib/python3.10/site-packages/ipykernel/kernelbase.py:1245\u001b[0m, in \u001b[0;36mKernel._input_request\u001b[0;34m(self, prompt, ident, parent, password)\u001b[0m\n\u001b[1;32m   1242\u001b[0m \u001b[39mexcept\u001b[39;00m \u001b[39mKeyboardInterrupt\u001b[39;00m:\n\u001b[1;32m   1243\u001b[0m     \u001b[39m# re-raise KeyboardInterrupt, to truncate traceback\u001b[39;00m\n\u001b[1;32m   1244\u001b[0m     msg \u001b[39m=\u001b[39m \u001b[39m\"\u001b[39m\u001b[39mInterrupted by user\u001b[39m\u001b[39m\"\u001b[39m\n\u001b[0;32m-> 1245\u001b[0m     \u001b[39mraise\u001b[39;00m \u001b[39mKeyboardInterrupt\u001b[39;00m(msg) \u001b[39mfrom\u001b[39;00m \u001b[39mNone\u001b[39;00m\n\u001b[1;32m   1246\u001b[0m \u001b[39mexcept\u001b[39;00m \u001b[39mException\u001b[39;00m:\n\u001b[1;32m   1247\u001b[0m     \u001b[39mself\u001b[39m\u001b[39m.\u001b[39mlog\u001b[39m.\u001b[39mwarning(\u001b[39m\"\u001b[39m\u001b[39mInvalid Message:\u001b[39m\u001b[39m\"\u001b[39m, exc_info\u001b[39m=\u001b[39m\u001b[39mTrue\u001b[39;00m)\n",
      "\u001b[0;31mKeyboardInterrupt\u001b[0m: Interrupted by user"
     ]
    }
   ],
   "source": [
    "get_prompt()"
   ]
  },
  {
   "cell_type": "code",
   "execution_count": 19,
   "metadata": {},
   "outputs": [
    {
     "name": "stdout",
     "output_type": "stream",
     "text": [
      "\n",
      "\n",
      "\u001b[1m> Entering new  chain...\u001b[0m\n",
      "Add new author 'Smith, John' to the position 7\n",
      "SQLQuery:\u001b[32;1m\u001b[1;3mINSERT INTO authors (id, first, last) VALUES (7, 'John', 'Smith')\u001b[0m\n",
      "SQLResult: \u001b[33;1m\u001b[1;3m\u001b[0m\n",
      "Answer:\u001b[32;1m\u001b[1;3mAuthor 'Smith, John' has been successfully added to the position 7.\u001b[0m\n",
      "\u001b[1m> Finished chain.\u001b[0m\n"
     ]
    },
    {
     "data": {
      "text/plain": [
       "\"Author 'Smith, John' has been successfully added to the position 7.\""
      ]
     },
     "execution_count": 19,
     "metadata": {},
     "output_type": "execute_result"
    }
   ],
   "source": [
    "db_chain.run(\"Add new author 'Smith, John' to the position 7\")"
   ]
  },
  {
   "cell_type": "code",
   "execution_count": 20,
   "metadata": {},
   "outputs": [
    {
     "name": "stdout",
     "output_type": "stream",
     "text": [
      "\n",
      "\n",
      "\u001b[1m> Entering new  chain...\u001b[0m\n",
      "List all the authors\n",
      "SQLQuery:\u001b[32;1m\u001b[1;3mSELECT \"first\", \"last\" FROM authors\u001b[0m\n",
      "SQLResult: \u001b[33;1m\u001b[1;3m[('Paul', 'Deitel'), ('Harvey', 'Deitel'), ('Abbey', 'Deitel'), ('Dan', 'Quirk'), ('Alexander', 'Wald'), ('John', 'Smith')]\u001b[0m\n",
      "Answer:\u001b[32;1m\u001b[1;3mPaul Deitel, Harvey Deitel, Abbey Deitel, Dan Quirk, Alexander Wald, John Smith\u001b[0m\n",
      "\u001b[1m> Finished chain.\u001b[0m\n"
     ]
    },
    {
     "data": {
      "text/plain": [
       "{'query': 'List all the authors',\n",
       " 'result': 'Paul Deitel, Harvey Deitel, Abbey Deitel, Dan Quirk, Alexander Wald, John Smith'}"
      ]
     },
     "execution_count": 20,
     "metadata": {},
     "output_type": "execute_result"
    }
   ],
   "source": [
    "db_chain(\"List all the authors\")"
   ]
  },
  {
   "cell_type": "code",
   "execution_count": 54,
   "metadata": {},
   "outputs": [],
   "source": [
    "import sqlite3\n",
    "conn = sqlite3.connect(db_file)"
   ]
  },
  {
   "cell_type": "code",
   "execution_count": 55,
   "metadata": {},
   "outputs": [],
   "source": [
    "# Create a cursor object to execute SQL commands\n",
    "cursor = conn.cursor()"
   ]
  },
  {
   "cell_type": "code",
   "execution_count": 56,
   "metadata": {},
   "outputs": [
    {
     "data": {
      "text/plain": [
       "<sqlite3.Cursor at 0x7f27e73236c0>"
      ]
     },
     "execution_count": 56,
     "metadata": {},
     "output_type": "execute_result"
    }
   ],
   "source": [
    "# Create the tasks table if it doesn't exist\n",
    "cursor.execute('''CREATE TABLE IF NOT EXISTS tasks\n",
    "             (id SERIAL PRIMARY KEY,\n",
    "             task TEXT NOT NULL,\n",
    "             completed BOOLEAN,\n",
    "             due_date DATE,\n",
    "             completion_date DATE,\n",
    "             priority INTEGER)''')"
   ]
  },
  {
   "cell_type": "code",
   "execution_count": 57,
   "metadata": {},
   "outputs": [
    {
     "data": {
      "text/plain": [
       "<sqlite3.Cursor at 0x7f27e73236c0>"
      ]
     },
     "execution_count": 57,
     "metadata": {},
     "output_type": "execute_result"
    }
   ],
   "source": [
    "# Insert sample tasks into the tasks table\n",
    "cursor.execute(\"INSERT INTO tasks (task, completed, due_date, completion_date, priority) VALUES ('Complete the web page design', True, '2023-05-01', '2023-05-03', 1)\")\n"
   ]
  },
  {
   "cell_type": "code",
   "execution_count": 58,
   "metadata": {},
   "outputs": [
    {
     "data": {
      "text/plain": [
       "<sqlite3.Cursor at 0x7f27e73236c0>"
      ]
     },
     "execution_count": 58,
     "metadata": {},
     "output_type": "execute_result"
    }
   ],
   "source": [
    "cursor.execute(\"INSERT INTO tasks (task, completed, due_date, completion_date, priority) VALUES ('Create login and signup pages', True, '2023-05-03', '2023-05-05', 2)\")"
   ]
  },
  {
   "cell_type": "code",
   "execution_count": 42,
   "metadata": {},
   "outputs": [
    {
     "data": {
      "text/plain": [
       "<sqlite3.Cursor at 0x7f27e7538f40>"
      ]
     },
     "execution_count": 42,
     "metadata": {},
     "output_type": "execute_result"
    }
   ],
   "source": [
    "cursor.execute(\"INSERT INTO tasks (task, completed, due_date, completion_date, priority) VALUES ('Product management', False, '2023-05-05', '2023-05-05', 3)\")\n",
    "cursor.execute(\"INSERT INTO tasks (task, completed, due_date, completion_date, priority) VALUES ('Cart and wishlist creation', False, '2023-05-08', '2023-05-05', 4)\")\n",
    "cursor.execute(\"INSERT INTO tasks (task, completed, due_date, completion_date, priority) VALUES  ('Payment gateway integration', False, '2023-05-10', '2023-05-05', 5)\")\n",
    "cursor.execute(\"INSERT INTO tasks (task, completed, due_date, completion_date, priority) VALUES ('Order management', False, '2023-05-10', '2023-05-05', 6)\")\n"
   ]
  },
  {
   "cell_type": "code",
   "execution_count": 59,
   "metadata": {},
   "outputs": [],
   "source": [
    "conn.commit()"
   ]
  },
  {
   "cell_type": "code",
   "execution_count": 60,
   "metadata": {},
   "outputs": [],
   "source": [
    "conn.close()"
   ]
  },
  {
   "cell_type": "code",
   "execution_count": null,
   "metadata": {},
   "outputs": [],
   "source": []
  }
 ],
 "metadata": {
  "kernelspec": {
   "display_name": "gpt",
   "language": "python",
   "name": "python3"
  },
  "language_info": {
   "codemirror_mode": {
    "name": "ipython",
    "version": 3
   },
   "file_extension": ".py",
   "mimetype": "text/x-python",
   "name": "python",
   "nbconvert_exporter": "python",
   "pygments_lexer": "ipython3",
   "version": "3.10.6"
  },
  "orig_nbformat": 4
 },
 "nbformat": 4,
 "nbformat_minor": 2
}
