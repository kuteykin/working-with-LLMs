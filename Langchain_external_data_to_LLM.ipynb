{
 "cells": [
  {
   "attachments": {},
   "cell_type": "markdown",
   "metadata": {},
   "source": [
    "# Langchain: Use cases how to connect external data to LLMs \n",
   ]
  },
  {
   "cell_type": "code",
   "execution_count": 7,
   "metadata": {},
   "outputs": [],
   "source": [
    "from langchain import PromptTemplate, LLMChain\n",
    "from langchain.llms import GPT4All\n",
    "from langchain.callbacks.streaming_stdout import StreamingStdOutCallbackHandler"
   ]
  },
  {
   "cell_type": "code",
   "execution_count": 8,
   "metadata": {},
   "outputs": [],
   "source": [
    "# Define text colors\n",
    "green = \"\\033[0;32m\"\n",
    "white = \"\\033[0;39m\"\n",
    "cyan  = \"\\033[36m\""
   ]
  },
  {
   "cell_type": "code",
   "execution_count": 9,
   "metadata": {},
   "outputs": [],
   "source": [
    "template = \"\"\"\n",
    "You are a friendly chatbot assistant that responds in a conversational\n",
    "manner to users questions. Keep the answers short, unless specifically\n",
    "asked by the user to elaborate on something.\n",
    "\n",
    "Question: {question}\n",
    "\n",
    "Answer:\"\"\""
   ]
  },
  {
   "cell_type": "code",
   "execution_count": 10,
   "metadata": {},
   "outputs": [],
   "source": [
    "prompt = PromptTemplate(template=template, input_variables=[\"question\"])"
   ]
  },
  {
   "attachments": {},
   "cell_type": "markdown",
   "metadata": {},
   "source": [
    "## Local LLM *(e.g., GTP4all)*"
   ]
  },
  {
   "cell_type": "code",
   "execution_count": 5,
   "metadata": {},
   "outputs": [
    {
     "name": "stdout",
     "output_type": "stream",
     "text": [
      "Found model file at  ../Models/ggml-gpt4all-j-v1.3-groovy.bin\n",
      "gptj_model_load: loading model from '../Models/ggml-gpt4all-j-v1.3-groovy.bin' - please wait ...\n",
      "gptj_model_load: n_vocab = 50400\n",
      "gptj_model_load: n_ctx   = 2048\n",
      "gptj_model_load: n_embd  = 4096\n",
      "gptj_model_load: n_head  = 16\n",
      "gptj_model_load: n_layer = 28\n",
      "gptj_model_load: n_rot   = 64\n",
      "gptj_model_load: f16     = 2\n",
      "gptj_model_load: ggml ctx size = 5401.45 MB\n",
      "gptj_model_load: kv self size  =  896.00 MB\n",
      "gptj_model_load: ................................... done\n",
      "gptj_model_load: model size =  3609.38 MB / num tensors = 285\n"
     ]
    }
   ],
   "source": [
    "llm_local = GPT4All(\n",
    "    model='../Models/ggml-gpt4all-j-v1.3-groovy.bin',\n",
    "    callbacks=[StreamingStdOutCallbackHandler()]\n",
    ")"
   ]
  },
  {
   "cell_type": "code",
   "execution_count": 6,
   "metadata": {},
   "outputs": [
    {
     "name": "stdout",
     "output_type": "stream",
     "text": [
      "\n",
      "The `model` object in the code above is a Keras Model that was created using TensorFlow. The training process for this model involves feeding data into it, and then updating its weights based on how well the network performs during testing. This can be done by calling methods such as fit() or predict(), which will train the model to make predictions given new input data.\n",
      "The `model` object is trained using a dataset that contains information about different types of animals in an animal kingdom, and their corresponding weights for each feature (e.g., color, size). The training process involves feeding this data into the network's layers one at a time until it reaches convergence on its own set of weights. This can be done by calling methods such as fit() or predict(), which will train the model to make predictions given new input data.\n",
      "The `model` object is then used for making predictions using the method \"predict\" and passing in test data, this returns a list with one element that contains the predicted class label of each sample in the testing set."
     ]
    },
    {
     "data": {
      "text/plain": [
       "'\\nThe `model` object in the code above is a Keras Model that was created using TensorFlow. The training process for this model involves feeding data into it, and then updating its weights based on how well the network performs during testing. This can be done by calling methods such as fit() or predict(), which will train the model to make predictions given new input data.\\nThe `model` object is trained using a dataset that contains information about different types of animals in an animal kingdom, and their corresponding weights for each feature (e.g., color, size). The training process involves feeding this data into the network\\'s layers one at a time until it reaches convergence on its own set of weights. This can be done by calling methods such as fit() or predict(), which will train the model to make predictions given new input data.\\nThe `model` object is then used for making predictions using the method \"predict\" and passing in test data, this returns a list with one element that contains the predicted class label of each sample in the testing set.'"
      ]
     },
     "execution_count": 6,
     "metadata": {},
     "output_type": "execute_result"
    }
   ],
   "source": [
    "question_2 = input(\"Question? \")\n",
    "llm_local(question_2)"
   ]
  },
  {
   "attachments": {},
   "cell_type": "markdown",
   "metadata": {},
   "source": [
    "## Remote LLM via API call *(e.g., OpenAI )*"
   ]
  },
  {
   "cell_type": "markdown",
   "metadata": {},
   "source": [
    "### Old OpenAI models (using openai.Completion method, chat is not supported)"
   ]
  },
  {
   "cell_type": "code",
   "execution_count": 12,
   "metadata": {},
   "outputs": [],
   "source": [
    "from langchain import OpenAI\n",
    "\n",
    "# Accessing the OPENAI KEY\n",
    "import environ\n",
    "env = environ.Env()\n",
    "environ.Env.read_env()\n",
    "API_KEY = env('OPENAI_API_KEY')\n",
    "\n",
    "# Simple LLM call Using LangChain\n",
    "\n",
    "llm = OpenAI(model_name=\"gpt-3.5-turbo\", openai_api_key=API_KEY)\n"
   ]
  },
  {
   "cell_type": "code",
   "execution_count": 13,
   "metadata": {},
   "outputs": [
    {
     "name": "stdout",
     "output_type": "stream",
     "text": [
      "\u001b[0;32mWhich language is used to create chatgpt?\n",
      "\u001b[36mChatGPT: \u001b[0;39mChatbot GPT-3 is built using the programming language Python.\n"
     ]
    }
   ],
   "source": [
    "query = \"Which language is used to create chatgpt?\"\n",
    "response = llm(query)\n",
    "print(f\"{green}{query}\")\n",
    "print(f\"{cyan}ChatGPT: {white}{response}\")"
   ]
  },
  {
   "cell_type": "markdown",
   "metadata": {},
   "source": [
    "### New approach for \"gpt-3.5-turbo\"and \"gpt-4\" models (using openai.ChatCompletion method)"
   ]
  },
  {
   "cell_type": "code",
   "execution_count": 14,
   "metadata": {},
   "outputs": [],
   "source": [
    "import os\n",
    "from langchain.chat_models import ChatOpenAI\n",
    "from langchain.schema import (\n",
    "    AIMessage,\n",
    "    HumanMessage,\n",
    "    SystemMessage\n",
    ")\n",
    "\n",
    "chat = ChatOpenAI(model_name=\"gpt-3.5-turbo\", openai_api_key=os.getenv(\"OPENAI_API_KEY\"))"
   ]
  },
  {
   "cell_type": "code",
   "execution_count": 15,
   "metadata": {},
   "outputs": [
    {
     "name": "stdout",
     "output_type": "stream",
     "text": [
      "content='ChatGPT is primarily developed using the Python programming language. The underlying model architecture is typically built using deep learning frameworks such as TensorFlow or PyTorch. Additionally, web technologies like HTML, CSS, and JavaScript are often used to create the user interface for interacting with ChatGPT on various platforms.' additional_kwargs={} example=False\n",
      "\u001b[0;32mChatGPT: \u001b[36mChatGPT is primarily developed using the Python programming language. The underlying model architecture is typically built using deep learning frameworks such as TensorFlow or PyTorch. Additionally, web technologies like HTML, CSS, and JavaScript are often used to create the user interface for interacting with ChatGPT on various platforms.\n"
     ]
    }
   ],
   "source": [
    "response = chat([\n",
    "    SystemMessage(content=\"You are friendly AI assistant\"),\n",
    "    HumanMessage(content=\"Which language is used to create chatgpt?\")\n",
    "])\n",
    "\n",
    "print(response)\n",
    "print(f'{green}ChatGPT: {cyan}{response.content}')"
   ]
  },
  {
   "attachments": {},
   "cell_type": "markdown",
   "metadata": {},
   "source": [
    "## Using prompt template"
   ]
  },
  {
   "cell_type": "code",
   "execution_count": 16,
   "metadata": {},
   "outputs": [],
   "source": [
    "# Creating a prompt template and running the LLM chain\n",
    "\n",
    "template = \"What are the top {n} resources to learn {language} programming?\"\n",
    "prompt = PromptTemplate(template=template,input_variables=['n','language'])\n",
    "\n",
    "input = {'n':3,'language':'Python'}"
   ]
  },
  {
   "cell_type": "code",
   "execution_count": 17,
   "metadata": {},
   "outputs": [
    {
     "name": "stdout",
     "output_type": "stream",
     "text": [
      "1. Python.org: The official website of Python provides comprehensive documentation, tutorials, and guides to learn Python from scratch. It covers all aspects of the language and is an excellent resource for beginners.\n",
      "\n",
      "2. Codecademy: Codecademy offers an interactive and beginner-friendly platform to learn Python programming. They provide step-by-step exercises and projects to practice and apply the concepts learned, making it an engaging and hands-on learning experience.\n",
      "\n",
      "3. Automate the Boring Stuff with Python: This is a popular book by Al Sweigart that teaches Python programming with a focus on practical applications. It covers topics like web scraping, working with files, automating tasks, and more. The book is available for free online or can be purchased in print or e-book formats. It is highly recommended for individuals interested in learning Python for automation purposes.\n"
     ]
    }
   ],
   "source": [
    "from langchain import PromptTemplate, LLMChain\n",
    "chain = LLMChain(llm=llm,prompt=prompt)\n",
    "print(chain.run(input))"
   ]
  },
  {
   "attachments": {},
   "cell_type": "markdown",
   "metadata": {},
   "source": [
    "## Connecting to SQL Database"
   ]
  },
  {
   "cell_type": "code",
   "execution_count": 3,
   "metadata": {},
   "outputs": [],
   "source": [
    "db_file = 'Input/books.db'\n",
    "db_uri = 'sqlite:///' + db_file"
   ]
  },
  {
   "cell_type": "code",
   "execution_count": 2,
   "metadata": {},
   "outputs": [],
   "source": [
    "# setup LLM\n",
    "\n",
    "from langchain.chat_models import ChatOpenAI\n",
    "import os\n",
    "\n",
    "\n",
    "# Simple LLM call Using LangChain\n",
    "llm = ChatOpenAI(model_name=\"gpt-3.5-turbo\", openai_api_key=os.getenv('OPENAI_API_KEY'), temperature=0)"
   ]
  },
  {
   "cell_type": "code",
   "execution_count": 4,
   "metadata": {},
   "outputs": [],
   "source": [
    "from langchain import SQLDatabase, SQLDatabaseChain\n",
    "db = SQLDatabase.from_uri(db_uri)\n",
    "\n",
    "\n",
    "# Setup the database chain\n",
    "db_chain = SQLDatabaseChain.from_llm(llm=llm, db=db, verbose=True)"
   ]
  },
  {
   "cell_type": "code",
   "execution_count": 5,
   "metadata": {},
   "outputs": [],
   "source": [
    "# Create Query template\n",
    "QUERY = \"\"\"\n",
    "Given an input question, first create a syntactically correct SQLite query to run, then look at the results of the query and return the answer.\n",
    "Use the following format:\n",
    "\n",
    "Question: Question here\n",
    "SQLQuery: SQL Query to run\n",
    "SQLResult: Result of the SQLQuery\n",
    "Answer: Final answer here\n",
    "\n",
    "{question}\n",
    "\"\"\""
   ]
  },
  {
   "cell_type": "code",
   "execution_count": 6,
   "metadata": {},
   "outputs": [],
   "source": [
    "# Function to generate prompt\n",
    "def get_prompt():\n",
    "    print(\"Type 'exit' to quit\")\n",
    "\n",
    "    while True:\n",
    "        prompt = input(\"Enter a prompt: \")\n",
    "\n",
    "        if prompt.lower() == 'exit':\n",
    "            print('Exiting...')\n",
    "            break\n",
    "        else:\n",
    "            try:\n",
    "                question = QUERY.format(question=prompt)\n",
    "                print(db_chain.run(question))\n",
    "            except Exception as e:\n",
    "                print(e)\n"
   ]
  },
  {
   "cell_type": "code",
   "execution_count": 7,
   "metadata": {},
   "outputs": [
    {
     "name": "stdout",
     "output_type": "stream",
     "text": [
      "Type 'exit' to quit\n",
      "\n",
      "\n",
      "\u001b[1m> Entering new  chain...\u001b[0m\n",
      "\n",
      "Given an input question, first create a syntactically correct SQLite query to run, then look at the results of the query and return the answer.\n",
      "Use the following format:\n",
      "\n",
      "Question: Question here\n",
      "SQLQuery: SQL Query to run\n",
      "SQLResult: Result of the SQLQuery\n",
      "Answer: Final answer here\n",
      "\n",
      "How many authors are?\n",
      "\n",
      "SQLQuery:\u001b[32;1m\u001b[1;3mSELECT COUNT(*) FROM authors\u001b[0m\n",
      "SQLResult: \u001b[33;1m\u001b[1;3m[(6,)]\u001b[0m\n",
      "Answer:\u001b[32;1m\u001b[1;3mFinal answer here: There are 6 authors.\u001b[0m\n",
      "\u001b[1m> Finished chain.\u001b[0m\n",
      "Final answer here: There are 6 authors.\n",
      "\n",
      "\n",
      "\u001b[1m> Entering new  chain...\u001b[0m\n",
      "\n",
      "Given an input question, first create a syntactically correct SQLite query to run, then look at the results of the query and return the answer.\n",
      "Use the following format:\n",
      "\n",
      "Question: Question here\n",
      "SQLQuery: SQL Query to run\n",
      "SQLResult: Result of the SQLQuery\n",
      "Answer: Final answer here\n",
      "\n",
      "Please list all the book titles\n",
      "\n",
      "SQLQuery:\u001b[32;1m\u001b[1;3mSELECT \"title\" FROM titles\u001b[0m\n",
      "SQLResult: \u001b[33;1m\u001b[1;3m[('Intro to Python for CS and DS',), ('Internet & WWW How to Program',), ('Java How to Program',), ('C How to Program',), ('Visual Basic 2012 How to Program',), ('Visual C# How to Program',), ('Visual C++ How to Program',), ('C++ How to Program',), ('Android How to Program',), ('Android 6 for Programmers',)]\u001b[0m\n",
      "Answer:\u001b[32;1m\u001b[1;3mFinal answer here: \n",
      "- Intro to Python for CS and DS\n",
      "- Internet & WWW How to Program\n",
      "- Java How to Program\n",
      "- C How to Program\n",
      "- Visual Basic 2012 How to Program\u001b[0m\n",
      "\u001b[1m> Finished chain.\u001b[0m\n",
      "Final answer here: \n",
      "- Intro to Python for CS and DS\n",
      "- Internet & WWW How to Program\n",
      "- Java How to Program\n",
      "- C How to Program\n",
      "- Visual Basic 2012 How to Program\n",
      "Exiting...\n"
     ]
    }
   ],
   "source": [
    "get_prompt()"
   ]
  },
  {
   "cell_type": "code",
   "execution_count": 9,
   "metadata": {},
   "outputs": [
    {
     "name": "stdout",
     "output_type": "stream",
     "text": [
      "\n",
      "\n",
      "\u001b[1m> Entering new  chain...\u001b[0m\n",
      "Add new author 'Smith, John' to the position 8\n",
      "SQLQuery:\u001b[32;1m\u001b[1;3mINSERT INTO authors (id, first, last) VALUES (8, 'John', 'Smith');\u001b[0m\n",
      "SQLResult: \u001b[33;1m\u001b[1;3m\u001b[0m\n",
      "Answer:\u001b[32;1m\u001b[1;3mAuthor 'Smith, John' has been successfully added to the position 8.\u001b[0m\n",
      "\u001b[1m> Finished chain.\u001b[0m\n"
     ]
    },
    {
     "data": {
      "text/plain": [
       "\"Author 'Smith, John' has been successfully added to the position 8.\""
      ]
     },
     "execution_count": 9,
     "metadata": {},
     "output_type": "execute_result"
    }
   ],
   "source": [
    "db_chain.run(\"Add new author 'Smith, John' to the position 8\")"
   ]
  },
  {
   "cell_type": "code",
   "execution_count": 10,
   "metadata": {},
   "outputs": [
    {
     "name": "stdout",
     "output_type": "stream",
     "text": [
      "\n",
      "\n",
      "\u001b[1m> Entering new  chain...\u001b[0m\n",
      "List all the authors\n",
      "SQLQuery:\u001b[32;1m\u001b[1;3mSELECT \"first\", \"last\" FROM authors\u001b[0m\n",
      "SQLResult: \u001b[33;1m\u001b[1;3m[('Paul', 'Deitel'), ('Harvey', 'Deitel'), ('Abbey', 'Deitel'), ('Dan', 'Quirk'), ('Alexander', 'Wald'), ('John', 'Smith'), ('John', 'Smith')]\u001b[0m\n",
      "Answer:\u001b[32;1m\u001b[1;3mPaul Deitel, Harvey Deitel, Abbey Deitel, Dan Quirk, Alexander Wald, John Smith\u001b[0m\n",
      "\u001b[1m> Finished chain.\u001b[0m\n"
     ]
    },
    {
     "data": {
      "text/plain": [
       "{'query': 'List all the authors',\n",
       " 'result': 'Paul Deitel, Harvey Deitel, Abbey Deitel, Dan Quirk, Alexander Wald, John Smith'}"
      ]
     },
     "execution_count": 10,
     "metadata": {},
     "output_type": "execute_result"
    }
   ],
   "source": [
    "db_chain(\"List all the authors\")"
   ]
  },
  {
   "cell_type": "code",
   "execution_count": 11,
   "metadata": {},
   "outputs": [],
   "source": [
    "import sqlite3\n",
    "conn = sqlite3.connect(db_file)"
   ]
  },
  {
   "cell_type": "code",
   "execution_count": 12,
   "metadata": {},
   "outputs": [],
   "source": [
    "# Create a cursor object to execute SQL commands\n",
    "cursor = conn.cursor()"
   ]
  },
  {
   "cell_type": "code",
   "execution_count": 13,
   "metadata": {},
   "outputs": [
    {
     "data": {
      "text/plain": [
       "<sqlite3.Cursor at 0x7fcb6e446dc0>"
      ]
     },
     "execution_count": 13,
     "metadata": {},
     "output_type": "execute_result"
    }
   ],
   "source": [
    "# Create the tasks table if it doesn't exist\n",
    "cursor.execute('''CREATE TABLE IF NOT EXISTS tasks\n",
    "             (id SERIAL PRIMARY KEY,\n",
    "             task TEXT NOT NULL,\n",
    "             completed BOOLEAN,\n",
    "             due_date DATE,\n",
    "             completion_date DATE,\n",
    "             priority INTEGER)''')"
   ]
  },
  {
   "cell_type": "code",
   "execution_count": 14,
   "metadata": {},
   "outputs": [
    {
     "data": {
      "text/plain": [
       "<sqlite3.Cursor at 0x7fcb6e446dc0>"
      ]
     },
     "execution_count": 14,
     "metadata": {},
     "output_type": "execute_result"
    }
   ],
   "source": [
    "# Insert sample tasks into the tasks table\n",
    "cursor.execute(\"INSERT INTO tasks (task, completed, due_date, completion_date, priority) VALUES ('Complete the web page design', True, '2023-05-01', '2023-05-03', 1)\")\n"
   ]
  },
  {
   "cell_type": "code",
   "execution_count": 15,
   "metadata": {},
   "outputs": [
    {
     "data": {
      "text/plain": [
       "<sqlite3.Cursor at 0x7fcb6e446dc0>"
      ]
     },
     "execution_count": 15,
     "metadata": {},
     "output_type": "execute_result"
    }
   ],
   "source": [
    "cursor.execute(\"INSERT INTO tasks (task, completed, due_date, completion_date, priority) VALUES ('Create login and signup pages', True, '2023-05-03', '2023-05-05', 2)\")"
   ]
  },
  {
   "cell_type": "code",
   "execution_count": 16,
   "metadata": {},
   "outputs": [
    {
     "data": {
      "text/plain": [
       "<sqlite3.Cursor at 0x7fcb6e446dc0>"
      ]
     },
     "execution_count": 16,
     "metadata": {},
     "output_type": "execute_result"
    }
   ],
   "source": [
    "cursor.execute(\"INSERT INTO tasks (task, completed, due_date, completion_date, priority) VALUES ('Product management', False, '2023-05-05', '2023-05-05', 3)\")\n",
    "cursor.execute(\"INSERT INTO tasks (task, completed, due_date, completion_date, priority) VALUES ('Cart and wishlist creation', False, '2023-05-08', '2023-05-05', 4)\")\n",
    "cursor.execute(\"INSERT INTO tasks (task, completed, due_date, completion_date, priority) VALUES  ('Payment gateway integration', False, '2023-05-10', '2023-05-05', 5)\")\n",
    "cursor.execute(\"INSERT INTO tasks (task, completed, due_date, completion_date, priority) VALUES ('Order management', False, '2023-05-10', '2023-05-05', 6)\")\n"
   ]
  },
  {
   "cell_type": "code",
   "execution_count": 17,
   "metadata": {},
   "outputs": [],
   "source": [
    "conn.commit()"
   ]
  },
  {
   "cell_type": "code",
   "execution_count": 18,
   "metadata": {},
   "outputs": [],
   "source": [
    "conn.close()"
   ]
  },
  {
   "cell_type": "code",
   "execution_count": 19,
   "metadata": {},
   "outputs": [
    {
     "name": "stdout",
     "output_type": "stream",
     "text": [
      "Type 'exit' to quit\n",
      "\n",
      "\n",
      "\u001b[1m> Entering new  chain...\u001b[0m\n",
      "\n",
      "Given an input question, first create a syntactically correct SQLite query to run, then look at the results of the query and return the answer.\n",
      "Use the following format:\n",
      "\n",
      "Question: Question here\n",
      "SQLQuery: SQL Query to run\n",
      "SQLResult: Result of the SQLQuery\n",
      "Answer: Final answer here\n",
      "\n",
      "How many authors are available?\n",
      "\n",
      "SQLQuery:\u001b[32;1m\u001b[1;3mSELECT COUNT(*) FROM authors\u001b[0m\n",
      "SQLResult: \u001b[33;1m\u001b[1;3m[(7,)]\u001b[0m\n",
      "Answer:\u001b[32;1m\u001b[1;3mFinal answer here: There are 7 authors available.\u001b[0m\n",
      "\u001b[1m> Finished chain.\u001b[0m\n",
      "Final answer here: There are 7 authors available.\n",
      "\n",
      "\n",
      "\u001b[1m> Entering new  chain...\u001b[0m\n",
      "\n",
      "Given an input question, first create a syntactically correct SQLite query to run, then look at the results of the query and return the answer.\n",
      "Use the following format:\n",
      "\n",
      "Question: Question here\n",
      "SQLQuery: SQL Query to run\n",
      "SQLResult: Result of the SQLQuery\n",
      "Answer: Final answer here\n",
      "\n",
      "How many tasks are listed?\n",
      "\n",
      "SQLQuery:\u001b[32;1m\u001b[1;3mSELECT COUNT(*) FROM tasks\u001b[0m\n",
      "SQLResult: \u001b[33;1m\u001b[1;3m[(6,)]\u001b[0m\n",
      "Answer:\u001b[32;1m\u001b[1;3mFinal answer here: There are 6 tasks listed.\u001b[0m\n",
      "\u001b[1m> Finished chain.\u001b[0m\n",
      "Final answer here: There are 6 tasks listed.\n",
      "\n",
      "\n",
      "\u001b[1m> Entering new  chain...\u001b[0m\n",
      "\n",
      "Given an input question, first create a syntactically correct SQLite query to run, then look at the results of the query and return the answer.\n",
      "Use the following format:\n",
      "\n",
      "Question: Question here\n",
      "SQLQuery: SQL Query to run\n",
      "SQLResult: Result of the SQLQuery\n",
      "Answer: Final answer here\n",
      "\n",
      "Please give an overview for all tasks\n",
      "\n",
      "SQLQuery:\u001b[32;1m\u001b[1;3mSELECT COUNT(*) FROM titles\u001b[0m\n",
      "SQLResult: \u001b[33;1m\u001b[1;3m[(10,)]\u001b[0m\n",
      "Answer:\u001b[32;1m\u001b[1;3mFinal answer here: There are 10 tasks in total.\u001b[0m\n",
      "\u001b[1m> Finished chain.\u001b[0m\n",
      "Final answer here: There are 10 tasks in total.\n",
      "\n",
      "\n",
      "\u001b[1m> Entering new  chain...\u001b[0m\n",
      "\n",
      "Given an input question, first create a syntactically correct SQLite query to run, then look at the results of the query and return the answer.\n",
      "Use the following format:\n",
      "\n",
      "Question: Question here\n",
      "SQLQuery: SQL Query to run\n",
      "SQLResult: Result of the SQLQuery\n",
      "Answer: Final answer here\n",
      "\n",
      "Please list all the tasks from tasks table\n",
      "\n",
      "SQLQuery:\u001b[32;1m\u001b[1;3mSELECT \"task\" FROM tasks\u001b[0m\n",
      "SQLResult: \u001b[33;1m\u001b[1;3m[('Complete the web page design',), ('Create login and signup pages',), ('Product management',), ('Cart and wishlist creation',), ('Payment gateway integration',), ('Order management',)]\u001b[0m\n",
      "Answer:\u001b[32;1m\u001b[1;3mFinal answer here: \n",
      "- Complete the web page design\n",
      "- Create login and signup pages\n",
      "- Product management\n",
      "- Cart and wishlist creation\n",
      "- Payment gateway integration\n",
      "- Order management\u001b[0m\n",
      "\u001b[1m> Finished chain.\u001b[0m\n",
      "Final answer here: \n",
      "- Complete the web page design\n",
      "- Create login and signup pages\n",
      "- Product management\n",
      "- Cart and wishlist creation\n",
      "- Payment gateway integration\n",
      "- Order management\n",
      "Exiting...\n"
     ]
    }
   ],
   "source": [
    "get_prompt()"
   ]
  },
  {
   "cell_type": "code",
   "execution_count": null,
   "metadata": {},
   "outputs": [],
   "source": []
  }
 ],
 "metadata": {
  "kernelspec": {
   "display_name": "gpt",
   "language": "python",
   "name": "python3"
  },
  "language_info": {
   "codemirror_mode": {
    "name": "ipython",
    "version": 3
   },
   "file_extension": ".py",
   "mimetype": "text/x-python",
   "name": "python",
   "nbconvert_exporter": "python",
   "pygments_lexer": "ipython3",
   "version": "3.10.12"
  },
  "orig_nbformat": 4
 },
 "nbformat": 4,
 "nbformat_minor": 2
}
